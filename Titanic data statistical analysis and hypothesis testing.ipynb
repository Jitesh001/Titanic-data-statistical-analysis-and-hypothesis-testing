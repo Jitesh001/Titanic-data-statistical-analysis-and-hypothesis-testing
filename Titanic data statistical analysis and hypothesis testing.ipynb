{
 "cells": [
  {
   "cell_type": "code",
   "execution_count": 1,
   "id": "3bcfce27",
   "metadata": {
    "scrolled": true
   },
   "outputs": [
    {
     "name": "stderr",
     "output_type": "stream",
     "text": [
      "C:\\Users\\Jitesh\\AppData\\Local\\Programs\\Python\\Python310\\lib\\site-packages\\scipy\\__init__.py:146: UserWarning: A NumPy version >=1.17.3 and <1.25.0 is required for this version of SciPy (detected version 1.26.1\n",
      "  warnings.warn(f\"A NumPy version >={np_minversion} and <{np_maxversion}\"\n"
     ]
    },
    {
     "name": "stdout",
     "output_type": "stream",
     "text": [
      "   survived  pclass     sex   age  sibsp  parch     fare embarked  class  \\\n",
      "0         0       3    male  22.0      1      0   7.2500        S  Third   \n",
      "1         1       1  female  38.0      1      0  71.2833        C  First   \n",
      "2         1       3  female  26.0      0      0   7.9250        S  Third   \n",
      "3         1       1  female  35.0      1      0  53.1000        S  First   \n",
      "4         0       3    male  35.0      0      0   8.0500        S  Third   \n",
      "\n",
      "     who  adult_male deck  embark_town alive  alone  \n",
      "0    man        True  NaN  Southampton    no  False  \n",
      "1  woman       False    C    Cherbourg   yes  False  \n",
      "2  woman       False  NaN  Southampton   yes   True  \n",
      "3  woman       False    C  Southampton   yes  False  \n",
      "4    man        True  NaN  Southampton    no   True  \n"
     ]
    }
   ],
   "source": [
    "import pandas as pd\n",
    "import seaborn as sns\n",
    "from scipy import stats\n",
    "from statsmodels.stats.proportion import proportions_ztest\n",
    "from sklearn.impute import SimpleImputer"
   ]
  },
  {
   "cell_type": "code",
   "execution_count": 13,
   "id": "99e75ddf",
   "metadata": {},
   "outputs": [
    {
     "name": "stdout",
     "output_type": "stream",
     "text": [
      "   survived  pclass     sex   age  sibsp  parch     fare embarked  class  \\\n",
      "0         0       3    male  22.0      1      0   7.2500        S  Third   \n",
      "1         1       1  female  38.0      1      0  71.2833        C  First   \n",
      "2         1       3  female  26.0      0      0   7.9250        S  Third   \n",
      "3         1       1  female  35.0      1      0  53.1000        S  First   \n",
      "4         0       3    male  35.0      0      0   8.0500        S  Third   \n",
      "\n",
      "     who  adult_male deck  embark_town alive  alone  \n",
      "0    man        True  NaN  Southampton    no  False  \n",
      "1  woman       False    C    Cherbourg   yes  False  \n",
      "2  woman       False  NaN  Southampton   yes   True  \n",
      "3  woman       False    C  Southampton   yes  False  \n",
      "4    man        True  NaN  Southampton    no   True  \n"
     ]
    }
   ],
   "source": [
    "# Load the Titanic dataset\n",
    "titanic_data = sns.load_dataset('titanic')\n",
    "\n",
    "# Display the first few rows of the dataset\n",
    "print(titanic_data.head())"
   ]
  },
  {
   "cell_type": "code",
   "execution_count": 14,
   "id": "33457b63",
   "metadata": {},
   "outputs": [
    {
     "name": "stdout",
     "output_type": "stream",
     "text": [
      "\n",
      "Tail of the dataset:\n",
      "     survived  pclass     sex   age  sibsp  parch   fare embarked   class  \\\n",
      "886         0       2    male  27.0      0      0  13.00        S  Second   \n",
      "887         1       1  female  19.0      0      0  30.00        S   First   \n",
      "888         0       3  female   NaN      1      2  23.45        S   Third   \n",
      "889         1       1    male  26.0      0      0  30.00        C   First   \n",
      "890         0       3    male  32.0      0      0   7.75        Q   Third   \n",
      "\n",
      "       who  adult_male deck  embark_town alive  alone  \n",
      "886    man        True  NaN  Southampton    no   True  \n",
      "887  woman       False    B  Southampton   yes   True  \n",
      "888  woman       False  NaN  Southampton    no  False  \n",
      "889    man        True    C    Cherbourg   yes   True  \n",
      "890    man        True  NaN   Queenstown    no   True  \n"
     ]
    }
   ],
   "source": [
    "# Display tail of the dataset\n",
    "print(\"\\nTail of the dataset:\")\n",
    "print(titanic_data.tail())"
   ]
  },
  {
   "cell_type": "code",
   "execution_count": 15,
   "id": "72f313b5",
   "metadata": {},
   "outputs": [
    {
     "name": "stdout",
     "output_type": "stream",
     "text": [
      "\n",
      "Count of Non-Null Values:\n",
      "<class 'pandas.core.frame.DataFrame'>\n",
      "RangeIndex: 891 entries, 0 to 890\n",
      "Data columns (total 15 columns):\n",
      " #   Column       Non-Null Count  Dtype   \n",
      "---  ------       --------------  -----   \n",
      " 0   survived     891 non-null    int64   \n",
      " 1   pclass       891 non-null    int64   \n",
      " 2   sex          891 non-null    object  \n",
      " 3   age          714 non-null    float64 \n",
      " 4   sibsp        891 non-null    int64   \n",
      " 5   parch        891 non-null    int64   \n",
      " 6   fare         891 non-null    float64 \n",
      " 7   embarked     889 non-null    object  \n",
      " 8   class        891 non-null    category\n",
      " 9   who          891 non-null    object  \n",
      " 10  adult_male   891 non-null    bool    \n",
      " 11  deck         203 non-null    category\n",
      " 12  embark_town  889 non-null    object  \n",
      " 13  alive        891 non-null    object  \n",
      " 14  alone        891 non-null    bool    \n",
      "dtypes: bool(2), category(2), float64(2), int64(4), object(5)\n",
      "memory usage: 80.7+ KB\n",
      "None\n"
     ]
    }
   ],
   "source": [
    "# Count of non-null values for each column\n",
    "print(\"\\nCount of Non-Null Values:\")\n",
    "print(titanic_data.info())"
   ]
  },
  {
   "cell_type": "code",
   "execution_count": 16,
   "id": "a2903b4e",
   "metadata": {
    "scrolled": true
   },
   "outputs": [
    {
     "name": "stdout",
     "output_type": "stream",
     "text": [
      "\n",
      "Count of Null Values after Imputation:\n",
      "survived       0\n",
      "pclass         0\n",
      "sex            0\n",
      "age            0\n",
      "sibsp          0\n",
      "parch          0\n",
      "fare           0\n",
      "embarked       0\n",
      "class          0\n",
      "who            0\n",
      "adult_male     0\n",
      "deck           0\n",
      "embark_town    0\n",
      "alive          0\n",
      "alone          0\n",
      "dtype: int64\n"
     ]
    }
   ],
   "source": [
    "from sklearn.impute import SimpleImputer\n",
    "\n",
    "# Handling missing numerical data (age column)\n",
    "numerical_features = ['age']\n",
    "numerical_imputer = SimpleImputer(strategy='mean')\n",
    "titanic_data[numerical_features] = numerical_imputer.fit_transform(titanic_data[numerical_features])\n",
    "\n",
    "# Handling missing categorical data (embarked column)\n",
    "categorical_features = ['embarked']\n",
    "categorical_imputer = SimpleImputer(strategy='most_frequent')\n",
    "titanic_data[categorical_features] = categorical_imputer.fit_transform(titanic_data[categorical_features])\n",
    "\n",
    "# Handling missing categorical data (deck column)\n",
    "titanic_data['deck'] = titanic_data['deck'].cat.add_categories('Unknown')\n",
    "titanic_data['deck'] = titanic_data['deck'].fillna('Unknown')\n",
    "\n",
    "# Handling missing categorical data (embark_town column)\n",
    "titanic_data['embark_town'] = titanic_data['embark_town'].fillna('Unknown')\n",
    "\n",
    "# Confirming that there are no more missing values\n",
    "print(\"\\nCount of Null Values after Imputation:\")\n",
    "print(titanic_data.isnull().sum())"
   ]
  },
  {
   "cell_type": "code",
   "execution_count": 17,
   "id": "051ec451",
   "metadata": {},
   "outputs": [
    {
     "name": "stdout",
     "output_type": "stream",
     "text": [
      "<class 'pandas.core.frame.DataFrame'>\n",
      "RangeIndex: 891 entries, 0 to 890\n",
      "Data columns (total 15 columns):\n",
      " #   Column       Non-Null Count  Dtype   \n",
      "---  ------       --------------  -----   \n",
      " 0   survived     891 non-null    int64   \n",
      " 1   pclass       891 non-null    int64   \n",
      " 2   sex          891 non-null    object  \n",
      " 3   age          891 non-null    float64 \n",
      " 4   sibsp        891 non-null    int64   \n",
      " 5   parch        891 non-null    int64   \n",
      " 6   fare         891 non-null    float64 \n",
      " 7   embarked     891 non-null    object  \n",
      " 8   class        891 non-null    category\n",
      " 9   who          891 non-null    object  \n",
      " 10  adult_male   891 non-null    bool    \n",
      " 11  deck         891 non-null    category\n",
      " 12  embark_town  891 non-null    object  \n",
      " 13  alive        891 non-null    object  \n",
      " 14  alone        891 non-null    bool    \n",
      "dtypes: bool(2), category(2), float64(2), int64(4), object(5)\n",
      "memory usage: 80.7+ KB\n",
      "None\n"
     ]
    }
   ],
   "source": [
    "print(titanic_data.info())"
   ]
  },
  {
   "cell_type": "code",
   "execution_count": 18,
   "id": "fe25ba1c",
   "metadata": {},
   "outputs": [
    {
     "name": "stdout",
     "output_type": "stream",
     "text": [
      "Statistical Analysis:\n",
      "         survived      pclass         age       sibsp       parch        fare\n",
      "count  891.000000  891.000000  891.000000  891.000000  891.000000  891.000000\n",
      "mean     0.383838    2.308642   29.699118    0.523008    0.381594   32.204208\n",
      "std      0.486592    0.836071   13.002015    1.102743    0.806057   49.693429\n",
      "min      0.000000    1.000000    0.420000    0.000000    0.000000    0.000000\n",
      "25%      0.000000    2.000000   22.000000    0.000000    0.000000    7.910400\n",
      "50%      0.000000    3.000000   29.699118    0.000000    0.000000   14.454200\n",
      "75%      1.000000    3.000000   35.000000    1.000000    0.000000   31.000000\n",
      "max      1.000000    3.000000   80.000000    8.000000    6.000000  512.329200\n"
     ]
    }
   ],
   "source": [
    "# Statistical Analysis\n",
    "print(\"Statistical Analysis:\")\n",
    "print(titanic_data.describe())"
   ]
  },
  {
   "cell_type": "markdown",
   "id": "792f94dd",
   "metadata": {},
   "source": [
    "The statistical analysis provides a summary of the key statistical measures for various numerical columns in the Titanic dataset. Here are some insights that can be drawn from the provided summary statistics:\n",
    "\n",
    "1. **Survived:** The mean indicates that approximately 38% of the passengers survived. This suggests that the dataset is slightly imbalanced, with more non-survivors than survivors.\n",
    "\n",
    "2. **Pclass (Passenger Class):** The mean value around 2.31 indicates that the majority of the passengers were in the second or third class. The standard deviation of 0.84 suggests a relatively wide distribution of passenger classes.\n",
    "\n",
    "3. **Age:** The mean age of approximately 29.7 suggests that the passengers were generally young adults. The standard deviation of 13.0 indicates a moderate amount of variability in ages. The minimum age of 0.42 suggests the presence of infants among the passengers.\n",
    "\n",
    "4. **Sibsp (Number of Siblings/Spouses Aboard):** The mean value of approximately 0.52 suggests that most passengers did not have siblings or spouses aboard. The maximum value of 8 indicates the presence of a few passengers with a large number of siblings or spouses.\n",
    "\n",
    "5. **Parch (Number of Parents/Children Aboard):** The mean value of 0.38 suggests that most passengers did not have parents or children aboard. The maximum value of 6 indicates the presence of a few passengers with a relatively large number of parents or children.\n",
    "\n",
    "6. **Fare:** The mean fare of approximately 32.20 suggests a moderately high fare on average. The wide standard deviation of 49.69 indicates a large variation in ticket prices, likely due to different passenger classes and other factors.\n"
   ]
  },
  {
   "cell_type": "code",
   "execution_count": 19,
   "id": "71dffe0e",
   "metadata": {},
   "outputs": [
    {
     "name": "stdout",
     "output_type": "stream",
     "text": [
      "\n",
      "T-test for Fare between Survived and Not Survived:\n",
      "T-statistic: 7.939191660871055\n",
      "P-value: 6.120189341924198e-15\n"
     ]
    }
   ],
   "source": [
    "# T-test\n",
    "print(\"\\nT-test for Fare between Survived and Not Survived:\")\n",
    "survived_fare = titanic_data[titanic_data['survived'] == 1]['fare']\n",
    "not_survived_fare = titanic_data[titanic_data['survived'] == 0]['fare']\n",
    "t_stat, p_val = stats.ttest_ind(survived_fare, not_survived_fare, nan_policy='omit')\n",
    "print(\"T-statistic:\", t_stat)\n",
    "print(\"P-value:\", p_val)"
   ]
  },
  {
   "cell_type": "markdown",
   "id": "5e62895e",
   "metadata": {},
   "source": [
    "- T-statistic: The T-statistic value of 7.94 indicates the magnitude of the difference between the means of the fare prices paid by the two groups. A higher absolute T-statistic value suggests a greater difference between the means.\n",
    "\n",
    "- P-value: The very low P-value of 6.12e-15 suggests strong evidence against the null hypothesis, indicating that the difference in the means of the fare prices between the two groups is unlikely to have occurred due to random chance. In this case, the low P-value suggests that the difference is statistically significant.\n",
    "\n",
    "Overall, the results of the t-test indicate that there is a significant association between the fare prices and the survival status of the passengers. This suggests that the fare prices may have played a role in determining the survival outcome of the passengers aboard the Titanic."
   ]
  },
  {
   "cell_type": "code",
   "execution_count": 20,
   "id": "b0168402",
   "metadata": {},
   "outputs": [
    {
     "name": "stdout",
     "output_type": "stream",
     "text": [
      "\n",
      "Chi-squared test for Survival and Class:\n",
      "Chi-squared statistic: 102.88898875696056\n",
      "P-value: 4.549251711298793e-23\n"
     ]
    }
   ],
   "source": [
    "# Chi-squared test\n",
    "print(\"\\nChi-squared test for Survival and Class:\")\n",
    "contingency_table = pd.crosstab(titanic_data['survived'], titanic_data['class'])\n",
    "chi2, p, dof, expected = stats.chi2_contingency(contingency_table)\n",
    "print(\"Chi-squared statistic:\", chi2)\n",
    "print(\"P-value:\", p)"
   ]
  },
  {
   "cell_type": "markdown",
   "id": "fa646d12",
   "metadata": {},
   "source": [
    "- Chi-squared statistic: The chi-squared statistic value of 102.89 represents the magnitude of the discrepancy between the expected and observed frequencies of survival and passenger class. A higher chi-squared value indicates a more substantial difference between the observed and expected frequencies.\n",
    "\n",
    "- P-value: The very low P-value of 4.55e-23 suggests strong evidence against the null hypothesis, indicating that the observed association between survival and class is unlikely to have occurred due to chance. The low P-value suggests that there is a significant relationship between survival and class.\n",
    "\n",
    "Based on these results, we can conclude that there is a strong association between the survival status of the passengers and the class they were traveling in. This suggests that the passenger class is a significant factor in determining the survival outcome during the Titanic disaster"
   ]
  },
  {
   "cell_type": "code",
   "execution_count": 21,
   "id": "58fe1f35",
   "metadata": {},
   "outputs": [
    {
     "name": "stdout",
     "output_type": "stream",
     "text": [
      "\n",
      "Proportions Test for Gender and Survival:\n",
      "Z-statistic: 1.6619388877318888\n",
      "P-value: 0.09652502845347238\n"
     ]
    }
   ],
   "source": [
    "# Proportions test for gender and survival\n",
    "survived_sex = titanic_data.groupby('sex')['survived'].sum()\n",
    "total_sex = titanic_data['sex'].value_counts()\n",
    "stat, p_val = proportions_ztest(survived_sex, total_sex)\n",
    "print(\"\\nProportions Test for Gender and Survival:\")\n",
    "print(\"Z-statistic:\", stat)\n",
    "print(\"P-value:\", p_val)"
   ]
  },
  {
   "cell_type": "markdown",
   "id": "0c16d988",
   "metadata": {},
   "source": [
    "- Z-statistic: The Z-statistic value of 1.66 measures the number of standard deviations that the proportion of survivors for males or females is away from the mean proportion. Since the Z-statistic is relatively close to 0, it suggests that the difference between the proportions of male and female survivors is not substantial.\n",
    "\n",
    "- P-value: The P-value of 0.0965 suggests that the observed difference in the proportions of male and female survivors is not statistically significant at a conventional significance level (such as 0.05). Since the P-value is greater than 0.05, we fail to reject the null hypothesis that there is no difference in the proportions of male and female survivors.\n",
    "\n",
    "In summary, the results indicate that there is no strong evidence to suggest a significant difference in the survival proportions between males and females. This implies that gender may not be a major determining factor for survival in the context of the Titanic dataset."
   ]
  },
  {
   "cell_type": "code",
   "execution_count": 22,
   "id": "02e6d4a7",
   "metadata": {},
   "outputs": [
    {
     "name": "stdout",
     "output_type": "stream",
     "text": [
      "\n",
      "Correlation Test for Age and Fare:\n",
      "Correlation Coefficient: 0.09156609328505762\n",
      "P-value: 0.006235676128297275\n"
     ]
    }
   ],
   "source": [
    "# Correlation test for age and fare\n",
    "from scipy import stats \n",
    "print(\"\\nCorrelation Test for Age and Fare:\")\n",
    "age_fare_corr, p_val_corr = stats.pearsonr(titanic_data['age'], titanic_data['fare'])\n",
    "print(\"Correlation Coefficient:\", age_fare_corr)\n",
    "print(\"P-value:\", p_val_corr)"
   ]
  },
  {
   "cell_type": "markdown",
   "id": "d9270c31",
   "metadata": {},
   "source": [
    "- Correlation Coefficient: The correlation coefficient of 0.0916 suggests a very weak positive linear relationship between the age and fare variables. This indicates that as one variable increases, the other variable also tends to increase slightly, but the relationship is not strong.\n",
    "\n",
    "- P-value: The P-value of 0.0062 suggests that the observed correlation between age and fare is statistically significant. Since the P-value is less than the commonly used significance level of 0.05, we can reject the null hypothesis and conclude that there is a significant correlation between age and fare.\n",
    "\n",
    "In summary, while there is a statistically significant correlation between age and fare, the correlation coefficient indicates that the relationship is very weak. This suggests that there is only a minimal tendency for the age and fare to increase together within the context of the Titanic dataset."
   ]
  },
  {
   "cell_type": "code",
   "execution_count": 23,
   "id": "cbabfc9b",
   "metadata": {},
   "outputs": [
    {
     "name": "stdout",
     "output_type": "stream",
     "text": [
      "\n",
      "One-way ANOVA Test for Age and Class:\n",
      "F-statistic: 56.57438528337169\n",
      "P-value: 7.481182472787865e-24\n"
     ]
    }
   ],
   "source": [
    "# One-way ANOVA test for age and class\n",
    "print(\"\\nOne-way ANOVA Test for Age and Class:\")\n",
    "class_groups = [titanic_data[titanic_data['class'] == i]['age'].dropna() for i in titanic_data['class'].unique()]\n",
    "f_stat, p_val_anova = stats.f_oneway(*class_groups)\n",
    "print(\"F-statistic:\", f_stat)\n",
    "print(\"P-value:\", p_val_anova)\n"
   ]
  },
  {
   "cell_type": "markdown",
   "id": "beed99ef",
   "metadata": {},
   "source": [
    "- F-statistic: The F-statistic value of 56.57 represents the ratio of the variance between the group means to the variance within the groups. A higher F-statistic value suggests a greater difference between the group means relative to the variation within each group.\n",
    "\n",
    "- P-value: The very low P-value of 7.48e-24 suggests strong evidence against the null hypothesis, indicating that the differences in the means of the age variable between the different passenger classes are unlikely to have occurred due to chance. The low P-value indicates that there is a significant difference in the mean ages across the passenger classes.\n",
    "\n",
    "In summary, the results suggest that there is a statistically significant difference in the mean ages of passengers among different passenger classes. This implies that the passenger class has an influence on the ages of the passengers aboard the Titanic."
   ]
  },
  {
   "cell_type": "code",
   "execution_count": 24,
   "id": "f86b5545",
   "metadata": {},
   "outputs": [],
   "source": [
    "from sklearn.model_selection import train_test_split\n",
    "from sklearn.preprocessing import LabelEncoder\n",
    "from sklearn.impute import SimpleImputer\n",
    "from sklearn.linear_model import LogisticRegression\n",
    "from sklearn.metrics import classification_report, confusion_matrix"
   ]
  },
  {
   "cell_type": "code",
   "execution_count": 25,
   "id": "affc9d3e",
   "metadata": {},
   "outputs": [],
   "source": [
    "# Preprocessing\n",
    "label_encoder = LabelEncoder()\n",
    "titanic_data['sex'] = label_encoder.fit_transform(titanic_data['sex'])\n",
    "titanic_data['embarked'] = titanic_data['embarked'].fillna(titanic_data['embarked'].mode()[0])\n",
    "titanic_data['embarked'] = label_encoder.fit_transform(titanic_data['embarked'])\n",
    "X = titanic_data[['pclass', 'sex', 'age', 'sibsp', 'parch', 'fare', 'embarked']]\n",
    "y = titanic_data['survived']\n",
    "X = SimpleImputer(strategy='mean').fit_transform(X)"
   ]
  },
  {
   "cell_type": "code",
   "execution_count": 26,
   "id": "af00bc9c",
   "metadata": {},
   "outputs": [
    {
     "data": {
      "text/html": [
       "<style>#sk-container-id-1 {color: black;background-color: white;}#sk-container-id-1 pre{padding: 0;}#sk-container-id-1 div.sk-toggleable {background-color: white;}#sk-container-id-1 label.sk-toggleable__label {cursor: pointer;display: block;width: 100%;margin-bottom: 0;padding: 0.3em;box-sizing: border-box;text-align: center;}#sk-container-id-1 label.sk-toggleable__label-arrow:before {content: \"▸\";float: left;margin-right: 0.25em;color: #696969;}#sk-container-id-1 label.sk-toggleable__label-arrow:hover:before {color: black;}#sk-container-id-1 div.sk-estimator:hover label.sk-toggleable__label-arrow:before {color: black;}#sk-container-id-1 div.sk-toggleable__content {max-height: 0;max-width: 0;overflow: hidden;text-align: left;background-color: #f0f8ff;}#sk-container-id-1 div.sk-toggleable__content pre {margin: 0.2em;color: black;border-radius: 0.25em;background-color: #f0f8ff;}#sk-container-id-1 input.sk-toggleable__control:checked~div.sk-toggleable__content {max-height: 200px;max-width: 100%;overflow: auto;}#sk-container-id-1 input.sk-toggleable__control:checked~label.sk-toggleable__label-arrow:before {content: \"▾\";}#sk-container-id-1 div.sk-estimator input.sk-toggleable__control:checked~label.sk-toggleable__label {background-color: #d4ebff;}#sk-container-id-1 div.sk-label input.sk-toggleable__control:checked~label.sk-toggleable__label {background-color: #d4ebff;}#sk-container-id-1 input.sk-hidden--visually {border: 0;clip: rect(1px 1px 1px 1px);clip: rect(1px, 1px, 1px, 1px);height: 1px;margin: -1px;overflow: hidden;padding: 0;position: absolute;width: 1px;}#sk-container-id-1 div.sk-estimator {font-family: monospace;background-color: #f0f8ff;border: 1px dotted black;border-radius: 0.25em;box-sizing: border-box;margin-bottom: 0.5em;}#sk-container-id-1 div.sk-estimator:hover {background-color: #d4ebff;}#sk-container-id-1 div.sk-parallel-item::after {content: \"\";width: 100%;border-bottom: 1px solid gray;flex-grow: 1;}#sk-container-id-1 div.sk-label:hover label.sk-toggleable__label {background-color: #d4ebff;}#sk-container-id-1 div.sk-serial::before {content: \"\";position: absolute;border-left: 1px solid gray;box-sizing: border-box;top: 0;bottom: 0;left: 50%;z-index: 0;}#sk-container-id-1 div.sk-serial {display: flex;flex-direction: column;align-items: center;background-color: white;padding-right: 0.2em;padding-left: 0.2em;position: relative;}#sk-container-id-1 div.sk-item {position: relative;z-index: 1;}#sk-container-id-1 div.sk-parallel {display: flex;align-items: stretch;justify-content: center;background-color: white;position: relative;}#sk-container-id-1 div.sk-item::before, #sk-container-id-1 div.sk-parallel-item::before {content: \"\";position: absolute;border-left: 1px solid gray;box-sizing: border-box;top: 0;bottom: 0;left: 50%;z-index: -1;}#sk-container-id-1 div.sk-parallel-item {display: flex;flex-direction: column;z-index: 1;position: relative;background-color: white;}#sk-container-id-1 div.sk-parallel-item:first-child::after {align-self: flex-end;width: 50%;}#sk-container-id-1 div.sk-parallel-item:last-child::after {align-self: flex-start;width: 50%;}#sk-container-id-1 div.sk-parallel-item:only-child::after {width: 0;}#sk-container-id-1 div.sk-dashed-wrapped {border: 1px dashed gray;margin: 0 0.4em 0.5em 0.4em;box-sizing: border-box;padding-bottom: 0.4em;background-color: white;}#sk-container-id-1 div.sk-label label {font-family: monospace;font-weight: bold;display: inline-block;line-height: 1.2em;}#sk-container-id-1 div.sk-label-container {text-align: center;}#sk-container-id-1 div.sk-container {/* jupyter's `normalize.less` sets `[hidden] { display: none; }` but bootstrap.min.css set `[hidden] { display: none !important; }` so we also need the `!important` here to be able to override the default hidden behavior on the sphinx rendered scikit-learn.org. See: https://github.com/scikit-learn/scikit-learn/issues/21755 */display: inline-block !important;position: relative;}#sk-container-id-1 div.sk-text-repr-fallback {display: none;}</style><div id=\"sk-container-id-1\" class=\"sk-top-container\"><div class=\"sk-text-repr-fallback\"><pre>LogisticRegression()</pre><b>In a Jupyter environment, please rerun this cell to show the HTML representation or trust the notebook. <br />On GitHub, the HTML representation is unable to render, please try loading this page with nbviewer.org.</b></div><div class=\"sk-container\" hidden><div class=\"sk-item\"><div class=\"sk-estimator sk-toggleable\"><input class=\"sk-toggleable__control sk-hidden--visually\" id=\"sk-estimator-id-1\" type=\"checkbox\" checked><label for=\"sk-estimator-id-1\" class=\"sk-toggleable__label sk-toggleable__label-arrow\">LogisticRegression</label><div class=\"sk-toggleable__content\"><pre>LogisticRegression()</pre></div></div></div></div></div>"
      ],
      "text/plain": [
       "LogisticRegression()"
      ]
     },
     "execution_count": 26,
     "metadata": {},
     "output_type": "execute_result"
    }
   ],
   "source": [
    "# Splitting the data into training and testing sets\n",
    "X_train, X_test, y_train, y_test = train_test_split(X, y, test_size=0.2, random_state=42)\n",
    "\n",
    "# Building and training the Logistic Regression model\n",
    "model = LogisticRegression()\n",
    "model.fit(X_train, y_train)"
   ]
  },
  {
   "cell_type": "code",
   "execution_count": 27,
   "id": "5fe0e079",
   "metadata": {},
   "outputs": [
    {
     "name": "stdout",
     "output_type": "stream",
     "text": [
      "\n",
      "Classification Report:\n",
      "              precision    recall  f1-score   support\n",
      "\n",
      "           0       0.83      0.86      0.84       105\n",
      "           1       0.79      0.74      0.76        74\n",
      "\n",
      "    accuracy                           0.81       179\n",
      "   macro avg       0.81      0.80      0.80       179\n",
      "weighted avg       0.81      0.81      0.81       179\n",
      "\n",
      "Confusion Matrix:\n",
      "[[90 15]\n",
      " [19 55]]\n"
     ]
    }
   ],
   "source": [
    "# Predicting the test set\n",
    "y_pred = model.predict(X_test)\n",
    "\n",
    "# Evaluating the model\n",
    "print(\"\\nClassification Report:\")\n",
    "print(classification_report(y_test, y_pred))\n",
    "print(\"Confusion Matrix:\")\n",
    "print(confusion_matrix(y_test, y_pred))"
   ]
  },
  {
   "cell_type": "markdown",
   "id": "42216a26",
   "metadata": {},
   "source": [
    "**Classification Report:**\n",
    "\n",
    "- Precision: The precision values for the '0' and '1' classes indicate the proportion of true positive predictions for each class. In this case, the precision values are 0.83 and 0.79, respectively, suggesting that the model is relatively precise in its predictions for both classes.\n",
    "\n",
    "- Recall: The recall values for the '0' and '1' classes represent the proportion of actual positives that were correctly identified by the model. The recall values of 0.86 and 0.74 suggest that the model performs well in capturing both classes, with a slightly higher recall for class '0' compared to class '1'.\n",
    "\n",
    "- F1-score: The F1-score combines precision and recall into a single metric, providing a balance between the two. The F1-scores of 0.84 and 0.76 suggest that the model has a good balance between precision and recall for both classes.\n",
    "Accuracy: The overall accuracy of 0.81 indicates the proportion of correctly classified instances out of the total instances. An accuracy of 81% suggests that the model performs reasonably well in predicting the outcomes for the given dataset.\n",
    "\n",
    "- Confusion Matrix:\n",
    "The confusion matrix provides a more detailed breakdown of the model's performance, showing the counts of true positive, false positive, true negative, and false negative predictions. In this case, the confusion matrix shows that the model correctly predicted 90 instances of class '0' (survived) and 55 instances of class '1' (not survived). It also misclassified 15 instances of class '0' as class '1' and 19 instances of class '1' as class '0'.\n",
    "\n",
    "Overall, the classification report and confusion matrix suggest that the model performs reasonably well in predicting the survival status of the passengers, with a relatively balanced performance in terms of precision, recall, and accuracy."
   ]
  },
  {
   "cell_type": "code",
   "execution_count": null,
   "id": "fe889415",
   "metadata": {},
   "outputs": [],
   "source": []
  }
 ],
 "metadata": {
  "kernelspec": {
   "display_name": "Python 3 (ipykernel)",
   "language": "python",
   "name": "python3"
  },
  "language_info": {
   "codemirror_mode": {
    "name": "ipython",
    "version": 3
   },
   "file_extension": ".py",
   "mimetype": "text/x-python",
   "name": "python",
   "nbconvert_exporter": "python",
   "pygments_lexer": "ipython3",
   "version": "3.10.4"
  }
 },
 "nbformat": 4,
 "nbformat_minor": 5
}
